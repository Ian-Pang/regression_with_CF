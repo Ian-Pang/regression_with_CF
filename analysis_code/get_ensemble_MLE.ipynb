{
 "cells": [
  {
   "cell_type": "code",
   "execution_count": 4,
   "metadata": {},
   "outputs": [],
   "source": [
    "import numpy as np\n",
    "import matplotlib.pyplot as plt"
   ]
  },
  {
   "cell_type": "code",
   "execution_count": 5,
   "metadata": {},
   "outputs": [],
   "source": [
    "fixed_energies = np.linspace(10,90,9)\n",
    "log_like_folder = \"/data/yp325/regression_project/data_log_densities/\" #change as appropriate\n",
    "output_folder = \"/data/yp325/regression_project/data_log_densities/data_log_full/\" #change as appropriate\n",
    "\n",
    "\n",
    "num_flows = 10\n",
    "\n",
    "myvals_1 = {}\n",
    "myvals_resL_1 = {}\n",
    "myvals_resR_1 = {}\n",
    "myvals_res_1 = {}\n",
    "\n",
    "for i in range(9):\n",
    "    myvals_1[fixed_energies[i]]=[]\n",
    "    myvals_resL_1[fixed_energies[i]]=[]\n",
    "    myvals_resR_1[fixed_energies[i]]=[]\n",
    "    myvals_res_1[fixed_energies[i]]=[]"
   ]
  },
  {
   "cell_type": "code",
   "execution_count": 6,
   "metadata": {},
   "outputs": [
    {
     "name": "stdout",
     "output_type": "stream",
     "text": [
      "Done with 10.0 GeV\n",
      "Done with 20.0 GeV\n",
      "Done with 30.0 GeV\n",
      "Done with 40.0 GeV\n",
      "Done with 50.0 GeV\n",
      "Done with 60.0 GeV\n",
      "Done with 70.0 GeV\n",
      "Done with 80.0 GeV\n",
      "Done with 90.0 GeV\n"
     ]
    }
   ],
   "source": [
    "for E in fixed_energies:\n",
    "    E_idx = int(E/10-1)\n",
    "    like_full = np.zeros([100000,1600])\n",
    "    for run in range(num_flows):\n",
    "        run_folder = log_like_folder+\"data_log_100k_run_\"+str(run+1)+\"/\"\n",
    "        filename = run_folder+\"log_like_\"+str(E_idx)+\".npy\"\n",
    "        \n",
    "        log_like = np.load(filename)\n",
    "        like = np.exp(log_like)\n",
    "        like_full += like/num_flows\n",
    "        del log_like\n",
    "\n",
    "    log_like_full = np.log(like_full)\n",
    "\n",
    "    local_energy = np.linspace(fixed_energies[E_idx]*0.5,fixed_energies[E_idx]*2.0,1600)\n",
    "    Erange = np.tile(local_energy,(100000,1)) \n",
    "    max_LL = log_like_full.max(1).reshape(-1,1)\n",
    "    hold = -2*((log_like_full-max_LL))\n",
    "\n",
    "    idx = hold.argmin(1)\n",
    "    MLE = Erange[np.arange(len(Erange)),idx]\n",
    "\n",
    "    Erange[hold>1] = None\n",
    "    sigma_right = np.nanmax(Erange,1)-MLE\n",
    "    sigma_left = MLE - np.nanmin(Erange,1)\n",
    "    sigma = 0.5*(sigma_right+sigma_left)\n",
    "\n",
    "    myvals_1[fixed_energies[E_idx]] = MLE\n",
    "\n",
    "    myvals_resL_1[fixed_energies[E_idx]] = sigma_left\n",
    "\n",
    "    myvals_resR_1[fixed_energies[E_idx]] = sigma_right\n",
    "            \n",
    "    myvals_res_1[fixed_energies[E_idx]] = sigma\n",
    "\n",
    "    np.save(output_folder+\"myvals_1_\"+str(E_idx),myvals_1[fixed_energies[E_idx]])\n",
    "    np.save(output_folder+\"myvals_resL_1_\"+str(E_idx),myvals_resL_1[fixed_energies[E_idx]])\n",
    "    np.save(output_folder+\"myvals_resR_1_\"+str(E_idx),myvals_resR_1[fixed_energies[E_idx]])\n",
    "    np.save(output_folder+\"myvals_res_1_\"+str(E_idx),myvals_res_1[fixed_energies[E_idx]])\n",
    "\n",
    "    print(\"Done with \"+str(fixed_energies[E_idx])+\" GeV\")"
   ]
  }
 ],
 "metadata": {
  "kernelspec": {
   "display_name": "base",
   "language": "python",
   "name": "base"
  },
  "orig_nbformat": 4
 },
 "nbformat": 4,
 "nbformat_minor": 2
}
